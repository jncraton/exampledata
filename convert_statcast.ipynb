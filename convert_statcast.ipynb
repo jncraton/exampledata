{
 "cells": [
  {
   "cell_type": "code",
   "execution_count": null,
   "metadata": {},
   "outputs": [],
   "source": [
    "import pandas as pd\n",
    "\n",
    "df = pd.read_csv('statcast-2020.csv')\n",
    "df.head()"
   ]
  },
  {
   "cell_type": "code",
   "execution_count": null,
   "metadata": {},
   "outputs": [],
   "source": [
    "df.columns"
   ]
  },
  {
   "cell_type": "code",
   "execution_count": null,
   "metadata": {},
   "outputs": [],
   "source": [
    "df['stand_right'] = (df['stand'] == 'R')"
   ]
  },
  {
   "cell_type": "code",
   "execution_count": null,
   "metadata": {},
   "outputs": [],
   "source": [
    "reduced = df[[\n",
    "    'type','description','pitch_type',\n",
    "    'pitch_name','release_speed','release_spin_rate', 'release_extension',\n",
    "    'release_pos_x', 'release_pos_z',\n",
    "    'vx0', 'vy0', 'vz0', 'ax', 'ay', 'az', 'plate_x', 'plate_z','stand_right',\n",
    "    'outs_when_up','bat_score','fld_score','inning','strikes','balls','on_1b','on_2b','on_3b',]].copy()\n",
    "\n",
    "for base in ['1','2','3']:\n",
    "    reduced[f'on_{base}b'] = reduced[f'on_{base}b'].notna().astype('int')\n",
    "    \n",
    "reduced = reduced.dropna()\n",
    "    \n",
    "for field in ['stand_right', 'release_speed','release_spin_rate','inning','balls','strikes','outs_when_up','bat_score','fld_score','vx0', 'vy0', 'vz0', 'ax', 'ay', 'az']:\n",
    "    reduced[field] = reduced[field].astype('int')\n",
    "\n",
    "reduced['release_spin_rate'] = (reduced['release_spin_rate'] / 100).astype('int')\n",
    "    \n",
    "reduced.to_csv('statcast.csv', index=False)"
   ]
  }
 ],
 "metadata": {
  "kernelspec": {
   "display_name": "Python 3",
   "language": "python",
   "name": "python3"
  },
  "language_info": {
   "codemirror_mode": {
    "name": "ipython",
    "version": 3
   },
   "file_extension": ".py",
   "mimetype": "text/x-python",
   "name": "python",
   "nbconvert_exporter": "python",
   "pygments_lexer": "ipython3",
   "version": "3.6.9"
  }
 },
 "nbformat": 4,
 "nbformat_minor": 4
}
